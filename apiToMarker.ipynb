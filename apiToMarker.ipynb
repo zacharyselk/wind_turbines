{
 "cells": [
  {
   "cell_type": "code",
   "execution_count": null,
   "metadata": {},
   "outputs": [],
   "source": [
    "# # Information template for every individual station\n",
    "# class station(object):\n",
    "#     __slots__ = ('name', 'prov', 'lat', 'lon', 'elevation', \n",
    "#                 'station_id', 'start_date', 'end_date', \n",
    "#                 'climate_id', 'wmo_id', 'tc_id')\n",
    "#     def __init__(self):\n",
    "#         self.name = ''\n",
    "#         self.prov = ''\n",
    "#         self.lat = 0.0\n",
    "#         self.lon = 0.0\n",
    "#         self.elevation = ''\n",
    "#         self.station_id = ''\n",
    "#         self.start_date = ''\n",
    "#         self.end_date = ''\n",
    "#         self.climate_id = ''\n",
    "#         self.wmo_id = ''\n",
    "#         self.tc_id = ''"
   ]
  },
  {
   "cell_type": "code",
   "execution_count": null,
   "metadata": {},
   "outputs": [],
   "source": [
    "from tqdm import tqdm\n",
    "from ipyleaflet import Marker, Map, Popup\n",
    "from pickle_to_txt import read_stations, get_station_attr\n",
    "\n",
    "center_view = (52.585538631877306, 245.45105824782084)\n",
    "alberta = Map(center=center_view, zoom=6, close_popup_on_click=False)\n",
    "\n",
    "stations = read_stations('alberta_stations.txt')\n",
    "\n",
    "for station in tqdm(stations):\n",
    "    marker = Marker(location=(float(get_station_attr(station, 'lat')), \n",
    "                              float(get_station_attr(station, 'lon'))), \n",
    "                    draggable=False)\n",
    "    \n",
    "    alberta.add_layer(marker)"
   ]
  },
  {
   "cell_type": "code",
   "execution_count": null,
   "metadata": {},
   "outputs": [],
   "source": [
    "alberta"
   ]
  },
  {
   "cell_type": "code",
   "execution_count": null,
   "metadata": {},
   "outputs": [],
   "source": []
  },
  {
   "cell_type": "code",
   "execution_count": null,
   "metadata": {},
   "outputs": [],
   "source": []
  },
  {
   "cell_type": "code",
   "execution_count": null,
   "metadata": {},
   "outputs": [],
   "source": [
    "import ipyleaflet \n",
    "from ipyleaflet import Map, Marker, Popup\n",
    "from ipywidgets import HTML\n",
    "import geocoder\n",
    "\n",
    "center = (52.585538631877306, 245.45105824782084)\n",
    "m = Map(center=center, zoom=6, close_popup_on_click=False)\n",
    "\n",
    "g = geocoder.ip('me')\n",
    "currentLat = g.latlng[0]\n",
    "currentLong = g.latlng[1]\n",
    "\n",
    "marker = Marker(location= (currentLat, (360 + (currentLong))), draggable=False)\n",
    "m.add_layer(marker);\n",
    "print(\"Count : \", count )\n",
    "\n",
    "\n",
    "for i in range(count):\n",
    "    marker = Marker(location= ( stationsInfo[{'lat{} : '.format(str(i))}].lat , stationsInfo['lon{} : '.format(str(i))].lon ), draggable=False)\n",
    "    m.add_layer(marker);\n",
    "\n",
    "no_interaction = ['mousemove', 'mouseover', 'mousedown', 'mouseup', 'mouseout', 'preclick','contextmenu', 'dblclick']\n",
    "def clickEvent(type, event, coordinates):\n",
    "    if(type in no_interaction):\n",
    "        pass\n",
    "    else:\n",
    "        print(type)\n",
    "        print(event)\n",
    "        print(coordinates)\n",
    "    \n",
    "m.on_interaction(clickEvent)\n",
    "m"
   ]
  }
 ],
 "metadata": {
  "kernelspec": {
   "display_name": "Python 3",
   "language": "python",
   "name": "python3"
  },
  "language_info": {
   "codemirror_mode": {
    "name": "ipython",
    "version": 3
   },
   "file_extension": ".py",
   "mimetype": "text/x-python",
   "name": "python",
   "nbconvert_exporter": "python",
   "pygments_lexer": "ipython3",
   "version": "3.6.5"
  }
 },
 "nbformat": 4,
 "nbformat_minor": 2
}
