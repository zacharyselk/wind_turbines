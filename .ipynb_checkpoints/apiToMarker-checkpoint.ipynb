{
 "cells": [
  {
   "cell_type": "code",
   "execution_count": 1,
   "metadata": {},
   "outputs": [],
   "source": [
    "# Information template for every individual station\n",
    "class station(object):\n",
    "    __slots__ = ('name', 'prov', 'lat', 'lon', 'elevation', \n",
    "                'station_id', 'start_date', 'end_date', \n",
    "                'climate_id', 'wmo_id', 'tc_id')\n",
    "    def __init__(self):\n",
    "        self.name = ''\n",
    "        self.prov = ''\n",
    "        self.lat = 0.0\n",
    "        self.lon = 0.0\n",
    "        self.elevation = ''\n",
    "        self.station_id = ''\n",
    "        self.start_date = ''\n",
    "        self.end_date = ''\n",
    "        self.climate_id = ''\n",
    "        self.wmo_id = ''\n",
    "        self.tc_id = ''"
   ]
  },
  {
   "cell_type": "code",
   "execution_count": 15,
   "metadata": {},
   "outputs": [
    {
     "name": "stdout",
     "output_type": "stream",
     "text": [
      "ACADIA VALLEY CDA EPF\n"
     ]
    }
   ],
   "source": [
    "from pickle_to_txt import read_stations, get_station_attr\n",
    "\n",
    "stations = read_stations('alberta_stations.txt')\n",
    "print(get_station_attr(stations[4], 'name'))"
   ]
  },
  {
   "cell_type": "code",
   "execution_count": 13,
   "metadata": {},
   "outputs": [
    {
     "name": "stdout",
     "output_type": "stream",
     "text": [
      "Unpickle\n",
      "Unpickle\n",
      "Unpickle\n",
      "Unpickle\n",
      "Unpickle\n",
      "Unpickle\n",
      "Unpickle\n",
      "Unpickle\n",
      "Unpickle\n",
      "Unpickle\n",
      "Unpickle\n",
      "Unpickle\n",
      "Unpickle\n",
      "Unpickle\n",
      "Unpickle\n"
     ]
    }
   ],
   "source": []
  },
  {
   "cell_type": "code",
   "execution_count": 2,
   "metadata": {},
   "outputs": [
    {
     "name": "stdout",
     "output_type": "stream",
     "text": [
      "Unpickle\n",
      "Unpickle\n",
      "Unpickle\n"
     ]
    },
    {
     "ename": "KeyboardInterrupt",
     "evalue": "",
     "output_type": "error",
     "traceback": [
      "\u001b[0;31m---------------------------------------------------------------------------\u001b[0m",
      "\u001b[0;31mKeyboardInterrupt\u001b[0m                         Traceback (most recent call last)",
      "\u001b[0;32m<ipython-input-2-0f5d47dc116b>\u001b[0m in \u001b[0;36m<module>\u001b[0;34m()\u001b[0m\n\u001b[1;32m      8\u001b[0m     \u001b[0;32mwith\u001b[0m \u001b[0mopen\u001b[0m\u001b[0;34m(\u001b[0m\u001b[0;34m\"alberta_stations_data.{}.pk\"\u001b[0m\u001b[0;34m.\u001b[0m\u001b[0mformat\u001b[0m\u001b[0;34m(\u001b[0m\u001b[0mstr\u001b[0m\u001b[0;34m(\u001b[0m\u001b[0mj\u001b[0m\u001b[0;34m)\u001b[0m\u001b[0;34m)\u001b[0m\u001b[0;34m,\u001b[0m\u001b[0;34m'rb'\u001b[0m\u001b[0;34m)\u001b[0m \u001b[0;32mas\u001b[0m \u001b[0mf\u001b[0m\u001b[0;34m:\u001b[0m\u001b[0;34m\u001b[0m\u001b[0m\n\u001b[1;32m      9\u001b[0m         \u001b[0mprint\u001b[0m\u001b[0;34m(\u001b[0m\u001b[0;34m\"Unpickle\"\u001b[0m\u001b[0;34m)\u001b[0m\u001b[0;34m\u001b[0m\u001b[0m\n\u001b[0;32m---> 10\u001b[0;31m         \u001b[0mnew_stations\u001b[0m \u001b[0;34m=\u001b[0m  \u001b[0mpk\u001b[0m\u001b[0;34m.\u001b[0m\u001b[0mload\u001b[0m\u001b[0;34m(\u001b[0m\u001b[0mf\u001b[0m\u001b[0;34m)\u001b[0m\u001b[0;34m\u001b[0m\u001b[0m\n\u001b[0m\u001b[1;32m     11\u001b[0m         \u001b[0;32mif\u001b[0m \u001b[0;34m(\u001b[0m\u001b[0mj\u001b[0m \u001b[0;34m==\u001b[0m \u001b[0;36m14\u001b[0m\u001b[0;34m)\u001b[0m\u001b[0;34m:\u001b[0m\u001b[0;34m\u001b[0m\u001b[0m\n\u001b[1;32m     12\u001b[0m             \u001b[0mupperLimit\u001b[0m \u001b[0;34m=\u001b[0m \u001b[0;36m68\u001b[0m\u001b[0;34m\u001b[0m\u001b[0m\n",
      "\u001b[0;32m/opt/conda/lib/python3.6/site-packages/bs4/element.py\u001b[0m in \u001b[0;36m__new__\u001b[0;34m(cls, value)\u001b[0m\n\u001b[1;32m    711\u001b[0m         \"\"\"\n\u001b[1;32m    712\u001b[0m         \u001b[0;32mif\u001b[0m \u001b[0misinstance\u001b[0m\u001b[0;34m(\u001b[0m\u001b[0mvalue\u001b[0m\u001b[0;34m,\u001b[0m \u001b[0mstr\u001b[0m\u001b[0;34m)\u001b[0m\u001b[0;34m:\u001b[0m\u001b[0;34m\u001b[0m\u001b[0m\n\u001b[0;32m--> 713\u001b[0;31m             \u001b[0mu\u001b[0m \u001b[0;34m=\u001b[0m \u001b[0mstr\u001b[0m\u001b[0;34m.\u001b[0m\u001b[0m__new__\u001b[0m\u001b[0;34m(\u001b[0m\u001b[0mcls\u001b[0m\u001b[0;34m,\u001b[0m \u001b[0mvalue\u001b[0m\u001b[0;34m)\u001b[0m\u001b[0;34m\u001b[0m\u001b[0m\n\u001b[0m\u001b[1;32m    714\u001b[0m         \u001b[0;32melse\u001b[0m\u001b[0;34m:\u001b[0m\u001b[0;34m\u001b[0m\u001b[0m\n\u001b[1;32m    715\u001b[0m             \u001b[0mu\u001b[0m \u001b[0;34m=\u001b[0m \u001b[0mstr\u001b[0m\u001b[0;34m.\u001b[0m\u001b[0m__new__\u001b[0m\u001b[0;34m(\u001b[0m\u001b[0mcls\u001b[0m\u001b[0;34m,\u001b[0m \u001b[0mvalue\u001b[0m\u001b[0;34m,\u001b[0m \u001b[0mDEFAULT_OUTPUT_ENCODING\u001b[0m\u001b[0;34m)\u001b[0m\u001b[0;34m\u001b[0m\u001b[0m\n",
      "\u001b[0;31mKeyboardInterrupt\u001b[0m: "
     ]
    }
   ],
   "source": []
  },
  {
   "cell_type": "code",
   "execution_count": null,
   "metadata": {},
   "outputs": [
    {
     "name": "stdout",
     "output_type": "stream",
     "text": [
      "Unpickle\n",
      "Unpickle\n",
      "Unpickle\n",
      "Unpickle\n",
      "Unpickle\n"
     ]
    }
   ],
   "source": [
    "import pickle as pk\n",
    "\n",
    "# TODO: Create another cell(4)\n",
    "import ipyleaflet \n",
    "from ipyleaflet import Map, Marker, Popup\n",
    "from ipywidgets import HTML\n",
    "import geocoder\n",
    "\n",
    "\n",
    "stations= []\n",
    "stationsInfo = dict()\n",
    "\n",
    "# TODO : Code for next cell (2 lines)\n",
    "center = (52.585538631877306, 245.45105824782084)\n",
    "m = Map(center=center, zoom=8, close_popup_on_click=False)\n",
    "\n",
    "count = 0\n",
    "for j in range(0, 15):\n",
    "    with open(\"alberta_stations_data.{}.pk\".format(str(j)),'rb') as f:\n",
    "        print(\"Unpickle\")\n",
    "        new_Stations =  pk.load(f)\n",
    "        if (j == 14):\n",
    "            upperLimit = 68\n",
    "        else: \n",
    "            upperLimit = 101   \n",
    "        for i in range(0,upperLimit):\n",
    "            stationsInfo.update({'name{}'.format(str(count)) : new_Stations[i].name})\n",
    "            stationsInfo.update({'lon{}'.format(str(count)) : new_Stations[i].prov})\n",
    "            stationsInfo.update({'lat{}'.format(str(count)) : new_Stations[i].lat})\n",
    "            stationsInfo.update({'lon{}'.format(str(count)) : new_Stations[i].lon})\n",
    "            stationsInfo.update({'name{}'.format(str(count)) : new_Stations[i].elevation})\n",
    "            stationsInfo.update({'lat{}'.format(str(count)) : new_Stations[i].station_id})\n",
    "            stationsInfo.update({'lon{}'.format(str(count)) : new_Stations[i].start_date})\n",
    "            stationsInfo.update({'name{}'.format(str(count)) : new_Stations[i].end_date})\n",
    "            stationsInfo.update({'lat{}'.format(str(count)) : new_Stations[i].climate_id})\n",
    "            stationsInfo.update({'lon{}'.format(str(count)) : new_Stations[i].wmo_id})\n",
    "            stationsInfo.update({'name{}'.format(str(count)) : new_Stations[i].tc_id})\n",
    "            \n",
    "            \n",
    "            '''stationsInfo.update({'name' : new_Stations[i].name})\n",
    "            stationsInfo.update({'prov' : new_Stations[i].prov})\n",
    "            stationsInfo.update({'lat' : new_Stations[i].lat})\n",
    "            stationsInfo.update({'lon' : new_Stations[i].lon})\n",
    "            stationsInfo.update({'elevation' : new_Stations[i].elevation})\n",
    "            stationsInfo.update({'station_id' : new_Stations[i].station_id})\n",
    "            stationsInfo.update({'start_date' : new_Stations[i].start_date})\n",
    "            stationsInfo.update({'end_date' : new_Stations[i].end_date})\n",
    "            stationsInfo.update({'climate_id' : new_Stations[i].climate_id})\n",
    "            stationsInfo.update({'wmo_id' : new_Stations[i].wmo_id})\n",
    "            stationsInfo.update({'tc_id' : new_Stations[i].tc_id})\n",
    "            '''\n",
    "            #For marker to place on the map (2)\n",
    "            marker = Marker(location= ( new_Stations[i].lat , new_Stations[i].lon), draggable=False)\n",
    "            m.add_layer(marker);\n",
    "            count = count + 1\n",
    "           # print(stationsInfo)\n",
    "m\n"
   ]
  },
  {
   "cell_type": "code",
   "execution_count": null,
   "metadata": {},
   "outputs": [],
   "source": [
    "import ipyleaflet \n",
    "from ipyleaflet import Map, Marker, Popup\n",
    "from ipywidgets import HTML\n",
    "import geocoder\n",
    "\n",
    "center = (52.585538631877306, 245.45105824782084)\n",
    "m = Map(center=center, zoom=6, close_popup_on_click=False)\n",
    "\n",
    "g = geocoder.ip('me')\n",
    "currentLat = g.latlng[0]\n",
    "currentLong = g.latlng[1]\n",
    "\n",
    "marker = Marker(location= (currentLat, (360 + (currentLong))), draggable=False)\n",
    "m.add_layer(marker);\n",
    "print(\"Count : \", count )\n",
    "\n",
    "\n",
    "for i in range(count):\n",
    "    marker = Marker(location= ( stationsInfo[{'lat{} : '.format(str(i))}].lat , stationsInfo['lon{} : '.format(str(i))].lon ), draggable=False)\n",
    "    m.add_layer(marker);\n",
    "\n",
    "no_interaction = ['mousemove', 'mouseover', 'mousedown', 'mouseup', 'mouseout', 'preclick','contextmenu', 'dblclick']\n",
    "def clickEvent(type, event, coordinates):\n",
    "    if(type in no_interaction):\n",
    "        pass\n",
    "    else:\n",
    "        print(type)\n",
    "        print(event)\n",
    "        print(coordinates)\n",
    "    \n",
    "m.on_interaction(clickEvent)\n",
    "m"
   ]
  }
 ],
 "metadata": {
  "kernelspec": {
   "display_name": "Python 3",
   "language": "python",
   "name": "python3"
  }
 },
 "nbformat": 4,
 "nbformat_minor": 2
}
